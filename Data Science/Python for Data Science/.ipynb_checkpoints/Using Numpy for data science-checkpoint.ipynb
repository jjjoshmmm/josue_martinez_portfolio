{
 "cells": [
  {
   "cell_type": "markdown",
   "metadata": {
    "tags": []
   },
   "source": [
    "# Numpy use case:\n"
   ]
  },
  {
   "cell_type": "markdown",
   "metadata": {},
   "source": [
    "# Pokemon Dataset\n",
    "\n",
    "In this exercise you will be analysing a dataset about Pokemon.\n",
    "<img src=\"figures/pokemon.png\" alt=\"Pikatchu\" align=\"right\" width=\"200\"/>\n",
    "\n",
    "### Intro to Pokemon\n",
    "Pokémon is a media franchise managed by The Pokémon Company, a Japanese consortium between Nintendo, Game Freak, and Creatures. While the franchise copyright is shared by all three companies, Nintendo is the sole owner of the trademark. The franchise was created by Satoshi Tajiri in 1995, and is centered on fictional creatures called \"Pokémon\", which humans, known as Pokémon Trainers, catch and train to battle each other for sport.\n",
    "\n",
    "The name Pokémon is the romanized contraction of the Japanese brand Pocket Monsters. The term Pokémon, in addition to referring to the Pokémon franchise itself, also collectively refers to the 721 known fictional species that have made appearances in Pokémon media as of the release of the sixth generation titles Pokémon X and Y. \"Pokémon\" is identical in both the singular and plural, as is each individual species name; it is grammatically correct to say \"one Pokémon\" and \"many Pokémon\", as well as \"one Pikachu\" and \"many Pikachu\". (source: wikipedia.com)"
   ]
  },
  {
   "cell_type": "markdown",
   "metadata": {},
   "source": [
    "### The Dataset\n",
    "You can find the data in three files in the 'data' directory. This are the raw attributes that are used for calculating how much damage an attack will do in the games. This dataset is about the Pokemon games (NOT Pokemon cards or Pokemon Go).\n",
    "\n",
    "1) 'pokemon_ids.npy' contains an int ndarray of the ID for each Pokemon\n",
    "\n",
    "2) 'pokemon_names.npy' contains a string ndarray of the name of each Pokemon (Hint: to `load` this file, you need to set the named parameter `allow_pickle` to `True`, as strings are objects)\n",
    "\n",
    "3) 'pokemon_stats.npy' contains a ndarray with 6 columns for each Pokemon\n",
    "\n",
    "- HP: hit points, or health, defines how much damage a Pokemon can withstand before fainting\n",
    "- Attack: the base modifier for normal attacks (eg. Scratch, Punch)\n",
    "- Defense: the base damage resistance against normal attacks\n",
    "- SP Atk: special attack, the base modifier for special attacks (e.g. fire blast, bubble beam)\n",
    "- SP Def: the base damage resistance against special attacks\n",
    "- Speed: determines which Pokemon attacks first each round\n"
   ]
  },
  {
   "cell_type": "markdown",
   "metadata": {},
   "source": [
    "### Exercises 1\n",
    "\n",
    "* 1a) load the dataset into three numpy arrays 'ids', 'names' and 'stats'. Verfiy the datatypes of each array.\n",
    "\n",
    "* 1b) how many rows do you expect the array to have? verify your assumption!\n",
    "\n",
    "* 1c) inspect the first 10 rows and the last 10 rows - do you notice anything important? Find an explanation for your observation!\n"
   ]
  },
  {
   "cell_type": "code",
   "execution_count": 2,
   "metadata": {},
   "outputs": [],
   "source": [
    "## ---------- SOLUTION 1a"
   ]
  },
  {
   "cell_type": "code",
   "execution_count": 3,
   "metadata": {},
   "outputs": [],
   "source": [
    "import numpy as np"
   ]
  },
  {
   "cell_type": "code",
   "execution_count": 4,
   "metadata": {},
   "outputs": [],
   "source": [
    "ids = np.load('data/pokemon_ids.npy')"
   ]
  },
  {
   "cell_type": "code",
   "execution_count": 5,
   "metadata": {},
   "outputs": [],
   "source": [
    "names = np.load('data/pokemon_names.npy', allow_pickle=True)"
   ]
  },
  {
   "cell_type": "code",
   "execution_count": 6,
   "metadata": {},
   "outputs": [],
   "source": [
    "stats = np.load('data/pokemon_stats.npy')"
   ]
  },
  {
   "cell_type": "code",
   "execution_count": 7,
   "metadata": {},
   "outputs": [
    {
     "name": "stdout",
     "output_type": "stream",
     "text": [
      "int64 object int64\n"
     ]
    }
   ],
   "source": [
    "print(ids.dtype, names.dtype, stats.dtype)"
   ]
  },
  {
   "cell_type": "code",
   "execution_count": 8,
   "metadata": {
    "tags": []
   },
   "outputs": [],
   "source": [
    "## ---------- SOLUTION 1b"
   ]
  },
  {
   "cell_type": "code",
   "execution_count": 9,
   "metadata": {},
   "outputs": [],
   "source": [
    "# we expect 721 rows"
   ]
  },
  {
   "cell_type": "code",
   "execution_count": 10,
   "metadata": {},
   "outputs": [
    {
     "name": "stdout",
     "output_type": "stream",
     "text": [
      "800 800 800\n"
     ]
    }
   ],
   "source": [
    "print(len(names), len(stats), len(ids))"
   ]
  },
  {
   "cell_type": "code",
   "execution_count": 11,
   "metadata": {},
   "outputs": [
    {
     "name": "stdout",
     "output_type": "stream",
     "text": [
      "(800,) (800, 6) (800,)\n"
     ]
    }
   ],
   "source": [
    "print(names.shape, stats.shape, ids.shape)"
   ]
  },
  {
   "cell_type": "code",
   "execution_count": 12,
   "metadata": {},
   "outputs": [],
   "source": [
    "# oops, we got 800 rows!!! this is strange!!!"
   ]
  },
  {
   "cell_type": "code",
   "execution_count": 13,
   "metadata": {},
   "outputs": [],
   "source": [
    "## ---------- SOLUTION 1c"
   ]
  },
  {
   "cell_type": "code",
   "execution_count": 14,
   "metadata": {},
   "outputs": [
    {
     "name": "stdout",
     "output_type": "stream",
     "text": [
      "['Bulbasaur' 'Ivysaur' 'Venusaur' 'VenusaurMega Venusaur' 'Charmander'\n",
      " 'Charmeleon' 'Charizard' 'CharizardMega Charizard X'\n",
      " 'CharizardMega Charizard Y' 'Squirtle']\n",
      "['Noibat' 'Noivern' 'Xerneas' 'Yveltal' 'Zygarde50% Forme' 'Diancie'\n",
      " 'DiancieMega Diancie' 'HoopaHoopa Confined' 'HoopaHoopa Unbound'\n",
      " 'Volcanion']\n"
     ]
    }
   ],
   "source": [
    "print(names[:10])\n",
    "print(names[-10:])"
   ]
  },
  {
   "cell_type": "code",
   "execution_count": 15,
   "metadata": {},
   "outputs": [
    {
     "name": "stdout",
     "output_type": "stream",
     "text": [
      "[1 2 3 3 4 5 6 6 6 7]\n",
      "[714 715 716 717 718 719 719 720 720 721]\n"
     ]
    }
   ],
   "source": [
    "print(ids[:10])\n",
    "print(ids[-10:])"
   ]
  },
  {
   "cell_type": "code",
   "execution_count": 16,
   "metadata": {},
   "outputs": [
    {
     "name": "stdout",
     "output_type": "stream",
     "text": [
      "[[ 45  49  49  65  65  45]\n",
      " [ 60  62  63  80  80  60]\n",
      " [ 80  82  83 100 100  80]\n",
      " [ 80 100 123 122 120  80]\n",
      " [ 39  52  43  60  50  65]\n",
      " [ 58  64  58  80  65  80]\n",
      " [ 78  84  78 109  85 100]\n",
      " [ 78 130 111 130  85 100]\n",
      " [ 78 104  78 159 115 100]\n",
      " [ 44  48  65  50  64  43]]\n",
      "[[ 40  30  35  45  40  55]\n",
      " [ 85  70  80  97  80 123]\n",
      " [126 131  95 131  98  99]\n",
      " [126 131  95 131  98  99]\n",
      " [108 100 121  81  95  95]\n",
      " [ 50 100 150 100 150  50]\n",
      " [ 50 160 110 160 110 110]\n",
      " [ 80 110  60 150 130  70]\n",
      " [ 80 160  60 170 130  80]\n",
      " [ 80 110 120 130  90  70]]\n"
     ]
    }
   ],
   "source": [
    "print(stats[:10])\n",
    "print(stats[-10:])"
   ]
  },
  {
   "cell_type": "code",
   "execution_count": 17,
   "metadata": {},
   "outputs": [],
   "source": [
    "# to notice: the ID is not unique, there seem to be \"similar\" pokemon with the same ID \n",
    "# (\"mega evolutions\"). \n",
    "# We do have 721 IDs as expected, but 800 rows\n",
    "# Doing some research, we find out, that some Pokemon can be temporarily changed to a different form \n",
    "# (for one fight) with a \"mega stone\" - after the fight, they revert to the original form. These temporary\n",
    "# forms have the same ID."
   ]
  },
  {
   "cell_type": "markdown",
   "metadata": {},
   "source": [
    "### Exercises 2\n",
    "\n",
    "* 2a) find the ids and names of all Pokemon with hitpoints above 150\n",
    "* 2b) find the names of all Pokemon that have a higher Attack than Defense (the \"attackers\")"
   ]
  },
  {
   "cell_type": "code",
   "execution_count": 18,
   "metadata": {},
   "outputs": [],
   "source": [
    "## ---------- SOLUTION 2a"
   ]
  },
  {
   "cell_type": "code",
   "execution_count": 19,
   "metadata": {},
   "outputs": [],
   "source": [
    "hp = stats[:, 0] # create a 1-dim array of the hp values"
   ]
  },
  {
   "cell_type": "code",
   "execution_count": 20,
   "metadata": {},
   "outputs": [],
   "source": [
    "large_hp_idx = (hp>150) # create a boolean 1-dim array of the hps above 150 for indexing"
   ]
  },
  {
   "cell_type": "code",
   "execution_count": 21,
   "metadata": {},
   "outputs": [
    {
     "name": "stdout",
     "output_type": "stream",
     "text": [
      "[113 143 202 242 321 594]\n",
      "['Chansey' 'Snorlax' 'Wobbuffet' 'Blissey' 'Wailord' 'Alomomola']\n"
     ]
    }
   ],
   "source": [
    "print(ids[large_hp_idx])\n",
    "print(names[large_hp_idx])"
   ]
  },
  {
   "cell_type": "code",
   "execution_count": 22,
   "metadata": {},
   "outputs": [],
   "source": [
    "## ---------- SOLUTION 2b"
   ]
  },
  {
   "cell_type": "code",
   "execution_count": 23,
   "metadata": {},
   "outputs": [],
   "source": [
    "# concise solution\n",
    "attacker_idx = stats[:, 1] > stats[:, 2]"
   ]
  },
  {
   "cell_type": "code",
   "execution_count": 24,
   "metadata": {},
   "outputs": [],
   "source": [
    "# easier to understand solution\n",
    "attack = stats[:, 1]\n",
    "defense = stats[:, 2]\n",
    "attacker_idx = attack > defense"
   ]
  },
  {
   "cell_type": "code",
   "execution_count": 25,
   "metadata": {
    "scrolled": true
   },
   "outputs": [
    {
     "name": "stdout",
     "output_type": "stream",
     "text": [
      "We have 433 attackers, the first 20 are: ['Charmander' 'Charmeleon' 'Charizard' 'CharizardMega Charizard X'\n",
      " 'CharizardMega Charizard Y' 'Weedle' 'Beedrill' 'BeedrillMega Beedrill'\n",
      " 'Pidgey' 'Pidgeotto' 'Pidgeot' 'Rattata' 'Raticate' 'Spearow' 'Fearow'\n",
      " 'Ekans' 'Arbok' 'Pikachu' 'Raichu' 'Nidoqueen']\n"
     ]
    }
   ],
   "source": [
    "print(f'We have {attacker_idx.sum()} attackers, the first 20 are: {names[attacker_idx][:20]}')"
   ]
  },
  {
   "cell_type": "code",
   "execution_count": null,
   "metadata": {},
   "outputs": [],
   "source": []
  },
  {
   "cell_type": "markdown",
   "metadata": {},
   "source": [
    "### Exercises 3\n",
    "\n",
    "* 3a) load the dataset\n",
    "\n",
    "* 3b) print (in one line) the min, mean, max and median of the hitpoints\n",
    "\n",
    "* 3c) compute a one-dim array containing the sum of Attack and Defense for each Pokemon\n",
    "\n",
    "* 3d) compute a list 'all' containing the sum of all 6 stats for each Pokemon (using a list comprehension)\n",
    "\n",
    "* 3e) use boolean indexing and your 'all' list to find the name of the Pokemon with the highest sum of all 6 stats"
   ]
  },
  {
   "cell_type": "code",
   "execution_count": 5,
   "metadata": {
    "tags": []
   },
   "outputs": [],
   "source": [
    "## ---------- SOLUTION 3b"
   ]
  },
  {
   "cell_type": "code",
   "execution_count": 6,
   "metadata": {},
   "outputs": [
    {
     "name": "stdout",
     "output_type": "stream",
     "text": [
      "HP: min=1, mean=69.25875, max=255, median=65.0\n"
     ]
    }
   ],
   "source": [
    "hp = stats[:, 0]\n",
    "print(f'HP: min={hp.min()}, mean={hp.mean()}, max={hp.max()}, median={np.median(hp)}')"
   ]
  },
  {
   "cell_type": "code",
   "execution_count": 7,
   "metadata": {
    "tags": []
   },
   "outputs": [],
   "source": [
    "## ---------- SOLUTION 3c"
   ]
  },
  {
   "cell_type": "code",
   "execution_count": 8,
   "metadata": {},
   "outputs": [
    {
     "name": "stdout",
     "output_type": "stream",
     "text": [
      "[ 98 125 165 223  95 122 162 241 182 113]\n"
     ]
    }
   ],
   "source": [
    "# some possible solutions:\n",
    "ad = np.add(stats[:, 1], stats[:,2])    # use the np.add function explicitly\n",
    "ad = stats[:, 1] + stats[:,2]           # use the np.add function via infix notation\n",
    "ad = stats[:,1:3].sum(1)[:10]           # use the sum function on the right axis\n",
    "print(ad[:10])"
   ]
  },
  {
   "cell_type": "code",
   "execution_count": 9,
   "metadata": {
    "tags": []
   },
   "outputs": [],
   "source": [
    "## ---------- SOLUTION 3d"
   ]
  },
  {
   "cell_type": "code",
   "execution_count": 10,
   "metadata": {},
   "outputs": [
    {
     "name": "stdout",
     "output_type": "stream",
     "text": [
      "[318, 405, 525, 625, 309, 405, 534, 634, 634, 314]\n"
     ]
    }
   ],
   "source": [
    "all_list = [np.sum(x) for x in stats]\n",
    "print(all_list[:10])"
   ]
  },
  {
   "cell_type": "code",
   "execution_count": 11,
   "metadata": {},
   "outputs": [
    {
     "name": "stdout",
     "output_type": "stream",
     "text": [
      "[318 405 525 625 309 405 534 634 634 314]\n"
     ]
    }
   ],
   "source": [
    "# higher performance using np instead of the comprehension (but we wanted to practise comprehensions!)\n",
    "all_nparray=stats.sum(1)\n",
    "print(all_nparray[:10])"
   ]
  },
  {
   "cell_type": "code",
   "execution_count": 12,
   "metadata": {
    "tags": []
   },
   "outputs": [],
   "source": [
    "## ---------- SOLUTION 3e"
   ]
  },
  {
   "cell_type": "code",
   "execution_count": 13,
   "metadata": {},
   "outputs": [
    {
     "name": "stdout",
     "output_type": "stream",
     "text": [
      "['MewtwoMega Mewtwo X' 'MewtwoMega Mewtwo Y' 'RayquazaMega Rayquaza']\n"
     ]
    }
   ],
   "source": [
    "print(names[all_nparray == all_nparray.max()])"
   ]
  },
  {
   "cell_type": "markdown",
   "metadata": {
    "tags": []
   },
   "source": [
    "### Exercises 4\n",
    "\n",
    "* 4a) find the names of all Pokemon where the sum of defense and special defense is at least twice the sum of attack and special attack (let's call them the 'strong defenders')\n",
    "\n",
    "* 4b) create a 1-dim array 'att_or_def' stating for each Pokemon if it is a 'Defender' or an 'Attacker' depending on the condition from the previous exercise, using the 'where' method.\n",
    "\n",
    "* 4c) create a dict where the key are the names of the Pokemon and the value is 'Defender' or 'Attacker' (hint: use a 'dict' comprehension and the *zip* function)"
   ]
  },
  {
   "cell_type": "code",
   "execution_count": 14,
   "metadata": {
    "tags": []
   },
   "outputs": [],
   "source": [
    "## ---------- SOLUTION 4a"
   ]
  },
  {
   "cell_type": "code",
   "execution_count": 15,
   "metadata": {},
   "outputs": [
    {
     "name": "stdout",
     "output_type": "stream",
     "text": [
      "['Onix' 'Chansey' 'Magikarp' 'Togepi' 'Marill' 'Shuckle' 'Smeargle'\n",
      " 'Azurill' 'Nosepass' 'Feebas' 'Duskull' 'Dusclops' 'Wynaut' 'Regirock'\n",
      " 'Regice' 'Registeel' 'DeoxysDefense Forme' 'Shieldon' 'Bastiodon'\n",
      " 'Bronzor' 'Happiny' 'Mantyke' 'Probopass' 'Ferroseed'\n",
      " 'AegislashShield Forme' 'Carbink']\n"
     ]
    }
   ],
   "source": [
    "# using the numpy sum function (fastest)\n",
    "strong_defenders = np.sum(stats[:,(2,4)], axis=1) >= 2*(np.sum(stats[:,(1,3)], axis=(1)))\n",
    "# using the Python sum function (slower)\n",
    "strong_defenders = stats[:,(2,4)].sum(1) >= 2*(stats[:,(1,3)].sum(1))\n",
    "# using addition instead of sum\n",
    "strong_defenders = stats[:,2]+stats[:,4] >= 2*(stats[:,1]+stats[:,3])\n",
    "\n",
    "print(names[strong_defenders])"
   ]
  },
  {
   "cell_type": "code",
   "execution_count": 16,
   "metadata": {
    "tags": []
   },
   "outputs": [],
   "source": [
    "## ---------- SOLUTION 4b"
   ]
  },
  {
   "cell_type": "code",
   "execution_count": 17,
   "metadata": {},
   "outputs": [],
   "source": [
    "att_or_def = np.where(strong_defenders, 'Defender', 'Attacker')"
   ]
  },
  {
   "cell_type": "code",
   "execution_count": 18,
   "metadata": {
    "tags": []
   },
   "outputs": [],
   "source": [
    "## ---------- SOLUTION 4c"
   ]
  },
  {
   "cell_type": "code",
   "execution_count": 19,
   "metadata": {},
   "outputs": [],
   "source": [
    "ad_dict = {x:y for x, y in zip(names, att_or_def)}       # with a dict comprehension\n",
    "ad_dict = dict(zip(names, att_or_def))                   # with dict/zip"
   ]
  },
  {
   "cell_type": "code",
   "execution_count": 20,
   "metadata": {},
   "outputs": [
    {
     "name": "stdout",
     "output_type": "stream",
     "text": [
      "[('Bulbasaur', 'Attacker'), ('Ivysaur', 'Attacker'), ('Venusaur', 'Attacker'), ('VenusaurMega Venusaur', 'Attacker'), ('Charmander', 'Attacker'), ('Charmeleon', 'Attacker'), ('Charizard', 'Attacker'), ('CharizardMega Charizard X', 'Attacker'), ('CharizardMega Charizard Y', 'Attacker'), ('Squirtle', 'Attacker')]\n"
     ]
    }
   ],
   "source": [
    "print(list(ad_dict.items())[:10])                        # show 10 entries of the dict"
   ]
  },
  {
   "cell_type": "markdown",
   "metadata": {},
   "source": [
    "### Exercises 5\n",
    "\n",
    "At the start of a new game, each player get's random set of Pokemon to start with. For each Pokemon, its chance is 1.5% to be in this list.\n",
    "\n",
    "* 5a) How many Pokemon do you expect in this starting list?\n",
    "* 5b) Generate such a 'my_pokemon' set (make sure you think about and pick a suitable data type!) containing the names of the Pokemon. How many does your set contain?  \n",
    "Hint: **np.random.uniform** may come in handy.\n",
    "* 5c) Compute the total hit points your starter Pokemon can sustain (i.e. the sum of the hitpoints of your starter Pokemon)"
   ]
  },
  {
   "cell_type": "code",
   "execution_count": 21,
   "metadata": {
    "tags": []
   },
   "outputs": [],
   "source": [
    "## ---------- SOLUTION 5a"
   ]
  },
  {
   "cell_type": "code",
   "execution_count": 22,
   "metadata": {},
   "outputs": [
    {
     "data": {
      "text/plain": [
       "10.815"
      ]
     },
     "execution_count": 22,
     "metadata": {},
     "output_type": "execute_result"
    }
   ],
   "source": [
    "# This sounds easy, and it is - but note that we can only have the non-stone-evolved forms in our\n",
    "# list, as the stone-evolved form is temporary, so the correct solution is not 0.015 * len(names) \n",
    "# but rather\n",
    "0.015 * len(np.unique(ids))"
   ]
  },
  {
   "cell_type": "code",
   "execution_count": 23,
   "metadata": {
    "tags": []
   },
   "outputs": [],
   "source": [
    "## ---------- SOLUTION 5b"
   ]
  },
  {
   "cell_type": "code",
   "execution_count": 24,
   "metadata": {},
   "outputs": [],
   "source": [
    "# seed the random number generator to make the following cells reproducible\n",
    "np.random.seed(1)"
   ]
  },
  {
   "cell_type": "code",
   "execution_count": 25,
   "metadata": {},
   "outputs": [],
   "source": [
    "# we will be using a numpy array, because it is powerful and works well. we could use a regular python list as well.\n",
    "# there is also a class 'set' which could be used\n",
    "starter_pokemon_b = np.random.uniform(size=(len(names)))<=0.015"
   ]
  },
  {
   "cell_type": "code",
   "execution_count": 26,
   "metadata": {},
   "outputs": [
    {
     "name": "stdout",
     "output_type": "stream",
     "text": [
      "[2, 98, 149, 196, 250, 441, 443, 487, 538, 545, 563, 569, 677, 690, 739, 744, 765]\n"
     ]
    }
   ],
   "source": [
    "# show the indizes of all potentially chosen starter pokemon\n",
    "idx = [idx for idx in np.arange(0,len(ids))[starter_pokemon_b]]\n",
    "print(idx)"
   ]
  },
  {
   "cell_type": "code",
   "execution_count": 27,
   "metadata": {},
   "outputs": [
    {
     "name": "stdout",
     "output_type": "stream",
     "text": [
      "['Venusaur' 'Cloyster' 'Omanyte' 'AmpharosMega Ampharos' 'Phanpy' 'Starly'\n",
      " 'Staraptor' 'Mime Jr.' 'Mesprit' 'GiratinaOrigin Forme' 'Patrat'\n",
      " 'Liepard' 'Shelmet' 'Vullaby' 'Florges' 'Furfrou' 'Heliolisk']\n"
     ]
    }
   ],
   "source": [
    "print(names[starter_pokemon_b])"
   ]
  },
  {
   "cell_type": "code",
   "execution_count": 28,
   "metadata": {},
   "outputs": [
    {
     "name": "stdout",
     "output_type": "stream",
     "text": [
      "['Venusaur' 'Cloyster' 'Omanyte' 'Phanpy' 'Starly' 'Staraptor' 'Mime Jr.'\n",
      " 'Mesprit' 'Patrat' 'Liepard' 'Shelmet' 'Vullaby' 'Florges' 'Furfrou'\n",
      " 'Heliolisk']\n"
     ]
    }
   ],
   "source": [
    "# filter out all \"form\" pokemon\n",
    "starter_pokemon_idx = [idx for idx in np.arange(0,len(ids))[starter_pokemon_b] if idx==1 or ids[idx-1]!=ids[idx]]\n",
    "starter_pokemon = names[starter_pokemon_idx]\n",
    "print(starter_pokemon)"
   ]
  },
  {
   "cell_type": "code",
   "execution_count": 29,
   "metadata": {},
   "outputs": [
    {
     "data": {
      "text/plain": [
       "15"
      ]
     },
     "execution_count": 29,
     "metadata": {},
     "output_type": "execute_result"
    }
   ],
   "source": [
    "len(starter_pokemon)"
   ]
  },
  {
   "cell_type": "code",
   "execution_count": 30,
   "metadata": {
    "tags": []
   },
   "outputs": [],
   "source": [
    "## ---------- SOLUTION 5c"
   ]
  },
  {
   "cell_type": "code",
   "execution_count": 31,
   "metadata": {},
   "outputs": [
    {
     "name": "stdout",
     "output_type": "stream",
     "text": [
      "924\n"
     ]
    }
   ],
   "source": [
    "# compute the combined health\n",
    "ch = np.sum(stats[:,0][starter_pokemon_idx])\n",
    "# Alternatively, we can use the names to compute the boolean indexing array \n",
    "ch = np.sum(stats[:,0][np.array([(x in starter_pokemon) for x in names])])\n",
    "# Or, even shorter, you do not actually need to convert the boolean array to an np.array\n",
    "#  (the line above may be easier to understand, though)\n",
    "ch = np.sum(stats[:,0][[(x in starter_pokemon) for x in names]])\n",
    "\n",
    "print(ch)"
   ]
  },
  {
   "cell_type": "markdown",
   "metadata": {},
   "source": [
    "---"
   ]
  },
  {
   "cell_type": "code",
   "execution_count": 32,
   "metadata": {},
   "outputs": [],
   "source": [
    "# alternative SOLUTION 5b & 5c using return_index parameter of np.unique"
   ]
  },
  {
   "cell_type": "code",
   "execution_count": 33,
   "metadata": {},
   "outputs": [],
   "source": [
    "uix = np.unique(ids, return_index=True)[1]"
   ]
  },
  {
   "cell_type": "code",
   "execution_count": 34,
   "metadata": {},
   "outputs": [],
   "source": [
    "# compute potential starter (ps) ids, names, stats\n",
    "ps_ids = ids[uix] # this is identical to np.unique(ids, return_index=True)[0] = arange(1, 722)\n",
    "ps_names = names[uix]\n",
    "ps_stats = stats[uix]"
   ]
  },
  {
   "cell_type": "code",
   "execution_count": 35,
   "metadata": {},
   "outputs": [],
   "source": [
    "# init random number generator to make result deterministic\n",
    "np.random.seed(42)\n",
    "# computer starter ids\n",
    "starter_pokemon_b = np.random.uniform(size=(len(ps_ids)))<=0.015"
   ]
  },
  {
   "cell_type": "code",
   "execution_count": 36,
   "metadata": {},
   "outputs": [
    {
     "name": "stdout",
     "output_type": "stream",
     "text": [
      "['Tentacruel' 'Magikarp' 'Dunsparce' 'Snubbull' 'Swablu' 'Cranidos'\n",
      " 'Lumineon' 'Glaceon' 'Tirtouga']\n"
     ]
    }
   ],
   "source": [
    "print(ps_names[starter_pokemon_b])"
   ]
  },
  {
   "cell_type": "code",
   "execution_count": 37,
   "metadata": {},
   "outputs": [
    {
     "data": {
      "text/plain": [
       "560"
      ]
     },
     "execution_count": 37,
     "metadata": {},
     "output_type": "execute_result"
    }
   ],
   "source": [
    "np.sum(ps_stats[:,0][starter_pokemon_b])"
   ]
  },
  {
   "cell_type": "markdown",
   "metadata": {},
   "source": [
    "---"
   ]
  }
 ],
 "metadata": {
  "kernelspec": {
   "display_name": "Python 3 (ipykernel)",
   "language": "python",
   "name": "python3"
  },
  "language_info": {
   "codemirror_mode": {
    "name": "ipython",
    "version": 3
   },
   "file_extension": ".py",
   "mimetype": "text/x-python",
   "name": "python",
   "nbconvert_exporter": "python",
   "pygments_lexer": "ipython3",
   "version": "3.10.9"
  }
 },
 "nbformat": 4,
 "nbformat_minor": 4
}
